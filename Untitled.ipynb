{
 "cells": [
  {
   "cell_type": "code",
   "execution_count": null,
   "id": "06022b04-0545-4686-89bd-77ef33f63c5f",
   "metadata": {},
   "outputs": [],
   "source": []
  }
 ],
 "metadata": {
  "kernelspec": {
   "display_name": "",
   "name": ""
  },
  "language_info": {
   "name": ""
  }
 },
 "nbformat": 4,
 "nbformat_minor": 5
}
